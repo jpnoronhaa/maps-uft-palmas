{
 "cells": [
  {
   "cell_type": "code",
   "execution_count": 36,
   "id": "be4f4fea-a807-4243-9774-7df5591f1c5d",
   "metadata": {
    "tags": []
   },
   "outputs": [],
   "source": [
    "import pyalex\n",
    "import numpy\n",
    "import networkx"
   ]
  },
  {
   "cell_type": "code",
   "execution_count": 2,
   "id": "48f344da-2503-4424-bde5-b95e345da11d",
   "metadata": {
    "tags": []
   },
   "outputs": [],
   "source": [
    "authors_ids = ['A5079492698','A5030061016','A5011937105','A5017806956','A5088693574','A5068784622','A5033397019','A5042762772','A5056479011','A5066452403','A5023920432','A5014023844','A5074410797','A5053494534','A5010023742','A5048975755','A5018814072','A5068040320','A5001900540','A5055438571','A5027230106','A5012497783','A5046094094']"
   ]
  },
  {
   "cell_type": "code",
   "execution_count": 13,
   "id": "092692bf-6245-429e-bf83-2dcd853d9695",
   "metadata": {
    "tags": []
   },
   "outputs": [],
   "source": [
    "pager = pyalex.Works().filter(authorships={\"author\": {\"id\": \"|\".join(authors_ids)}}).sort(cited_by_count=\"desc\").paginate(per_page=200)\n",
    "works = []\n",
    "for page in pager:\n",
    "    for work in page:\n",
    "        if work is not None:\n",
    "            works.append(work)"
   ]
  },
  {
   "cell_type": "code",
   "execution_count": 31,
   "id": "656ab067-a836-489d-a7b0-0821d46da262",
   "metadata": {
    "tags": []
   },
   "outputs": [],
   "source": [
    "network_authors = []\n",
    "for work in works:\n",
    "    for item in work['authorships']:\n",
    "        author_id = item['author']['id'][21:]\n",
    "        author_name = item['author']['display_name']\n",
    "        author = (author_id, author_name)\n",
    "        if author not in network_authors:\n",
    "            network_authors.append(author)"
   ]
  },
  {
   "cell_type": "code",
   "execution_count": 38,
   "id": "1a39f97c-a9a6-4c40-8e64-45e1ed45e97f",
   "metadata": {
    "tags": []
   },
   "outputs": [],
   "source": [
    "matrix = numpy.zeros((len(network_authors), len(network_authors)), dtype=int)\n",
    "for work in works:\n",
    "    for author1 in work['authorships']:\n",
    "        a = network_authors.index((author1['author']['id'][21:], author1['author']['display_name']))\n",
    "        for author2 in work['authorships']:\n",
    "            b = network_authors.index((author2['author']['id'][21:], author2['author']['display_name']))\n",
    "            matrix[a][b] += 1"
   ]
  },
  {
   "cell_type": "code",
   "execution_count": 40,
   "id": "54c97817-e6ab-4307-ae5f-e86a5df22b25",
   "metadata": {
    "tags": []
   },
   "outputs": [],
   "source": [
    "graph = networkx.from_numpy_array(matrix, parallel_edges=False)\n",
    "graph.remove_edges_from(networkx.selfloop_edges(graph))\n",
    "attributes = {i: {\"openalex_id\": network_authors[i][0], \"name\": network_authors[i][1]}  for i in range(len(network_authors))}\n",
    "networkx.set_node_attributes(graph, attributes)"
   ]
  },
  {
   "cell_type": "code",
   "execution_count": 42,
   "id": "7bdb1757-7eea-413c-befd-4adb17d384cd",
   "metadata": {
    "tags": []
   },
   "outputs": [
    {
     "data": {
      "text/plain": [
       "0.011452563873503662"
      ]
     },
     "execution_count": 42,
     "metadata": {},
     "output_type": "execute_result"
    }
   ],
   "source": [
    "networkx.density(graph)"
   ]
  },
  {
   "cell_type": "code",
   "execution_count": 43,
   "id": "6c0a45c5-d47b-4bc7-90d2-34a7048f5158",
   "metadata": {
    "tags": []
   },
   "outputs": [
    {
     "data": {
      "text/plain": [
       "{124: 7.645161290322581,\n",
       " 31: 18.0,\n",
       " 20: 17.283333333333335,\n",
       " 44: 10.136363636363637,\n",
       " 1: 48.41860465116279,\n",
       " 6: 23.22685185185185,\n",
       " 51: 9.509803921568627,\n",
       " 15: 18.177777777777777,\n",
       " 5: 26.836363636363636,\n",
       " 88: 10.090909090909092,\n",
       " 3: 28.159420289855074,\n",
       " 4: 26.945,\n",
       " 13: 12.615384615384615,\n",
       " 2: 31.62087912087912,\n",
       " 8: 21.445652173913043,\n",
       " 12: 23.61111111111111,\n",
       " 16: 19.4375,\n",
       " 9: 17.0,\n",
       " 81: 7.567901234567901,\n",
       " 11: 17.766233766233768,\n",
       " 24: 12.729166666666666,\n",
       " 10: 21.377777777777776,\n",
       " 45: 9.9,\n",
       " 61: 7.426229508196721,\n",
       " 14: 25.685714285714287,\n",
       " 25: 6.76,\n",
       " 66: 12.272727272727273,\n",
       " 18: 14.777777777777779,\n",
       " 7: 16.62,\n",
       " 21: 1.7619047619047619,\n",
       " 29: 13.172413793103448,\n",
       " 19: 18.652631578947368,\n",
       " 26: 15.615384615384615,\n",
       " 22: 17.90909090909091}"
      ]
     },
     "execution_count": 43,
     "metadata": {},
     "output_type": "execute_result"
    }
   ],
   "source": [
    "networkx.average_degree_connectivity(graph)"
   ]
  },
  {
   "cell_type": "code",
   "execution_count": 47,
   "id": "dd526a09-6a2c-4c11-89c7-4a2d81fdd7df",
   "metadata": {
    "tags": []
   },
   "outputs": [
    {
     "data": {
      "text/plain": [
       "{'openalex_id': 'A5068784622', 'name': 'David Nadler Prata'}"
      ]
     },
     "execution_count": 47,
     "metadata": {},
     "output_type": "execute_result"
    }
   ],
   "source": [
    "maxDegree = max(list(graph.degree()), key=lambda x: x[1])[0]\n",
    "graph.nodes[maxDegree]"
   ]
  },
  {
   "cell_type": "code",
   "execution_count": 50,
   "id": "3ebdbec8-aa99-4b1a-a65d-0cb33bea0aae",
   "metadata": {
    "tags": []
   },
   "outputs": [
    {
     "name": "stdout",
     "output_type": "stream",
     "text": [
      "{'openalex_id': 'A5068784622', 'name': 'David Nadler Prata'}\n",
      "{'openalex_id': 'A5053494534', 'name': 'Marcelo Lisboa Rocha'}\n"
     ]
    }
   ],
   "source": [
    "[maxWeight1, maxWeight2, value] = max(list(graph.edges(data=True)), key=lambda x: x[2]['weight'])\n",
    "print(graph.nodes[maxWeight1])\n",
    "print(graph.nodes[maxWeight2])"
   ]
  },
  {
   "cell_type": "code",
   "execution_count": 57,
   "id": "f0ac57b5-2fe4-45b3-a46c-00c662d1f80b",
   "metadata": {
    "tags": []
   },
   "outputs": [
    {
     "data": {
      "text/plain": [
       "0"
      ]
     },
     "execution_count": 57,
     "metadata": {},
     "output_type": "execute_result"
    }
   ],
   "source": [
    "qtdWeightOne = len([value for value in list(graph.edges(data=True)) if value[2]['weight'] == 13])\n",
    "qtdWeightOne"
   ]
  },
  {
   "cell_type": "code",
   "execution_count": null,
   "id": "94f958a4-5267-4a27-b0e7-4a19c6e3f4e1",
   "metadata": {},
   "outputs": [],
   "source": []
  }
 ],
 "metadata": {
  "kernelspec": {
   "display_name": "Python 3 (ipykernel)",
   "language": "python",
   "name": "python3"
  },
  "language_info": {
   "codemirror_mode": {
    "name": "ipython",
    "version": 3
   },
   "file_extension": ".py",
   "mimetype": "text/x-python",
   "name": "python",
   "nbconvert_exporter": "python",
   "pygments_lexer": "ipython3",
   "version": "3.11.5"
  }
 },
 "nbformat": 4,
 "nbformat_minor": 5
}
